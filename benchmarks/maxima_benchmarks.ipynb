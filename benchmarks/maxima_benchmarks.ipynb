# must be run in ipython

import numpy as np
import trackpy as tp
from trackpy.preprocessing import scale_to_gamut


def b(command):
    get_ipython().magic(command)


dummy_noise_image = scale_to_gamut(np.random.randint(0, 100, (100, 100)), np.uint8)
real_image_raw = tp.ImageSequence('../trackpy/tests/video/image_sequence')[0]
real_image = scale_to_gamut(tp.bandpass(real_image_raw, 1, 10, threshold=1), np.uint8)
big_image = scale_to_gamut(tp.bandpass(np.tile(real_image_raw, (2, 5)), 1, 10, threshold=1), np.uint8)
very_small_image = scale_to_gamut(tp.bandpass(real_image_raw[:200, :200], 1, 10, threshold=1), np.uint8)

#print('Locate using Python Engine with Default Settings (Accurate)')
#b(u"timeit tp.locate(real_image, 9, engine='python', preprocess=False)")

print('1x: Find local_maxima only')
b(u"timeit tp.feature.local_maxima(real_image, 9, 10)")

print('10x: Find local_maxima only')
b(u"timeit tp.feature.local_maxima(big_image, 9, 10)")

print('~0.1x: Find local_maxima only')
b(u"timeit tp.feature.local_maxima(very_small_image, 9, 10)")
